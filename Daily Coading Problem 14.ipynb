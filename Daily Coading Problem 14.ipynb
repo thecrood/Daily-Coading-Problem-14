{
 "cells": [
  {
   "cell_type": "markdown",
   "id": "73dbafdf",
   "metadata": {},
   "source": [
    "# Daily Coading Problem 14"
   ]
  },
  {
   "cell_type": "markdown",
   "id": "8f630506",
   "metadata": {},
   "source": [
    "This problem was asked by Google.\n",
    "\n",
    "The area of a circle is defined as πr^2. Estimate π to 3 decimal places using a Monte Carlo method.\n",
    "\n",
    "Hint: The basic equation of a circle is x2 + y2 = r2."
   ]
  },
  {
   "cell_type": "markdown",
   "id": "754c45ef",
   "metadata": {},
   "source": [
    "Monte Carlo methods rely on random sampling. In this case, if we take a cartesian plane and inscribe a circle with radius r inside a square with lengths 2r, then the area of the circle will be πr2 while the area of the square will be (2r)2 = 4r2. Then, the ratio of the areas of the circle to the square is π / 4.\n",
    "\n",
    "So, what we can do is the following:\n",
    "\n",
    "* Set r to be 1 (the unit circle)\n",
    "* Randomly generate points within the square with corners (-1, -1), (1, 1), (1, -1), (-1, 1)\n",
    "* Keep track of the points that fall inside and outside the circle\n",
    "       * You can check whether a point (x, y) is inside the circle if x2 + y2 < r2, which is another way of                representing a circle\n",
    "* Divide the number of points that fall inside the circle to the total number of points -- that should give us an   approximation of π / 4."
   ]
  },
  {
   "cell_type": "code",
   "execution_count": 6,
   "id": "88ee2929",
   "metadata": {},
   "outputs": [],
   "source": [
    "from random import uniform\n",
    "from math import pow\n",
    "\n",
    "def generate():\n",
    "    return (uniform(-1, 1), uniform(-1, 1))\n",
    "\n",
    "def is_in_circle(coords):\n",
    "    return coords[0] * coords[0] + coords[1] * coords[1] < 1\n",
    "\n",
    "def estimate():\n",
    "    iterations = 10000000\n",
    "    in_circle = 0\n",
    "    for _ in range(iterations):\n",
    "        if is_in_circle(generate()):\n",
    "            in_circle += 1\n",
    "            \n",
    "    pi_over_four = in_circle / iterations\n",
    "    return pi_over_four * 4\n"
   ]
  },
  {
   "cell_type": "markdown",
   "id": "e529515e",
   "metadata": {},
   "source": [
    "Note that this doesn't give a perfect approximation -- we need more iterations to get a closer estimate. We want the digits of pi up to 3 decimal places. This translates to an error of < 10^(-3). The error scales with the square root of the number of guesses, which means we need 10^6 iterations to get to our desired precision. If we want more precision, we'll have to crank up the iterations.\n",
    "\n",
    "This problem _is_ embarrassingly parallel. None of the estimations have any dependent computations, so we can parallelize this problem easily -- divide up the workload into P processes you have, and then add up all the points in the circle in the end. Extra credit: make this program multi-process."
   ]
  },
  {
   "cell_type": "code",
   "execution_count": 8,
   "id": "cdf517aa",
   "metadata": {},
   "outputs": [],
   "source": [
    "from random import random\n",
    "radius = 2\n",
    "\n",
    "\n",
    "def estimate_pi(num_random_tests):\n",
    "    pi_counter = 0\n",
    "    rsquared = radius ** 2\n",
    "    for _ in range(num_random_tests):\n",
    "        x_rand = random() * radius\n",
    "        y_rand = random() * radius\n",
    "        if (x_rand ** 2) + (y_rand ** 2) < rsquared:\n",
    "            pi_counter += 1\n",
    "\n",
    "    return 4 * pi_counter / num_random_tests\n",
    "\n",
    "#assert round(estimate_pi(100000000), 3) == 3.141"
   ]
  },
  {
   "cell_type": "markdown",
   "id": "95aa0552",
   "metadata": {},
   "source": [
    "# Method for below implimentation\n",
    "\n",
    "The Monte Carlo method is based on statistical probability to calculate the number Pi. Accordingly:\n",
    "\n",
    "* Suppose we have a 1x1 square objective board. The center is the origin O(0,0). From the origin we draw a circle   inscribed in the square.\n",
    "\n",
    "* A gunner fires a dart at the target board (Assuming all hit the target but can be in or out of the circle.)\n",
    "\n",
    "* After n shots, we can count k shots inside the circle. The formula for calculating pi is pi = (k/n)/4.\n",
    "\n",
    "* The larger n is, the closer we get to pi."
   ]
  },
  {
   "cell_type": "code",
   "execution_count": null,
   "id": "62afdb8c",
   "metadata": {},
   "outputs": [],
   "source": [
    "go on this link and check the image\n",
    "\n",
    "https://res.cloudinary.com/deop9ytsv/image/upload/v1586329960/e9xI1.gif"
   ]
  },
  {
   "cell_type": "code",
   "execution_count": 17,
   "id": "1d4d3497",
   "metadata": {},
   "outputs": [],
   "source": [
    "from random import random\n",
    "\n",
    "def estimate_pi():\n",
    "    nThrows = 0\n",
    "    nSuccess = 0\n",
    "    x, y\n",
    "\n",
    "    for i in range(0,1000000):\n",
    "\n",
    "        x = Math.random()     #Throw a dart\n",
    "        y = Math.random()\n",
    "        nThrows+=1\n",
    "\n",
    "        if ( x*x + y*y <= 1 ):\n",
    "            nSuccess+=1\n",
    "        return (\"Pi/4 = \" + nSuccess/nThrows )\n",
    "        return (\"Pi = \" + 4* nSuccess/nThrows )\n"
   ]
  },
  {
   "cell_type": "code",
   "execution_count": null,
   "id": "80945090",
   "metadata": {},
   "outputs": [],
   "source": []
  }
 ],
 "metadata": {
  "kernelspec": {
   "display_name": "Python 3 (ipykernel)",
   "language": "python",
   "name": "python3"
  },
  "language_info": {
   "codemirror_mode": {
    "name": "ipython",
    "version": 3
   },
   "file_extension": ".py",
   "mimetype": "text/x-python",
   "name": "python",
   "nbconvert_exporter": "python",
   "pygments_lexer": "ipython3",
   "version": "3.8.10"
  }
 },
 "nbformat": 4,
 "nbformat_minor": 5
}
